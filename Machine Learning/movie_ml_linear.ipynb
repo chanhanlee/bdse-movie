{
 "cells": [
  {
   "cell_type": "code",
   "execution_count": 1,
   "metadata": {},
   "outputs": [],
   "source": [
    "import pandas as pd\n",
    "import numpy as np\n",
    "from sklearn import preprocessing\n",
    "from sklearn.model_selection import train_test_split\n",
    "from sklearn.linear_model  import LogisticRegression\n",
    "from sklearn.metrics import accuracy_score, confusion_matrix\n",
    "import xgboost as xgb\n",
    "from sklearn.metrics import mean_squared_error, r2_score\n",
    "from sklearn.preprocessing import LabelEncoder\n",
    "from sklearn.preprocessing import StandardScaler\n",
    "from sklearn.linear_model import Lasso\n",
    "from sklearn.linear_model import LassoCV"
   ]
  },
  {
   "attachments": {},
   "cell_type": "markdown",
   "metadata": {},
   "source": [
    "### DATA挑選"
   ]
  },
  {
   "cell_type": "code",
   "execution_count": 2,
   "metadata": {},
   "outputs": [],
   "source": [
    "df8=pd.read_csv('fin_imdb_merge_df_clean.csv')"
   ]
  },
  {
   "cell_type": "code",
   "execution_count": 3,
   "metadata": {},
   "outputs": [],
   "source": [
    "df=pd.read_csv('df_condensed.csv')"
   ]
  },
  {
   "cell_type": "code",
   "execution_count": 4,
   "metadata": {},
   "outputs": [],
   "source": [
    "# genres_freq編碼 將製片商與電影種類按出現比例編碼(直接照原本的DATA編碼 不做另外挑選處理)\n",
    "freq=df8['production_companies'].value_counts(normalize=True)\n",
    "df8['production_companies_freq'] = df8['production_companies'].map(freq)\n",
    "freq1=df8['genres'].value_counts(normalize=True)\n",
    "df8['genres_freq'] =df8['genres'].map(freq1)"
   ]
  },
  {
   "cell_type": "code",
   "execution_count": 5,
   "metadata": {},
   "outputs": [],
   "source": [
    "#合併欄位\n",
    "merged_df = pd.merge(df, df8, on='movie_id', how='inner')"
   ]
  },
  {
   "cell_type": "code",
   "execution_count": 6,
   "metadata": {},
   "outputs": [],
   "source": [
    "# 把電影年份挑到2000年後\n",
    "df2=merged_df[merged_df['year_x']>2000]"
   ]
  },
  {
   "cell_type": "code",
   "execution_count": 7,
   "metadata": {},
   "outputs": [],
   "source": [
    "# 挑選X要用的欄位 並將部分空職補上\n",
    "df3=df2[['sequal_x','reunion_holiday','non_reunion_holiday','budget_transfer_x','production_companies_freq','genres_freq']]"
   ]
  },
  {
   "cell_type": "code",
   "execution_count": 102,
   "metadata": {},
   "outputs": [],
   "source": [
    "#  Encoding categorical features\n",
    "#pd.Categorical(df8['casts']).codes.shape"
   ]
  },
  {
   "cell_type": "code",
   "execution_count": 31,
   "metadata": {},
   "outputs": [],
   "source": [
    "# 數值版的y\n",
    "# df1['make_money1']=df1['revenue_transfer']- df1['budget_transfer']\n",
    "# df1=df.copy()\n",
    "# X = df1.drop(['movie_id','imdb_id','title_sum_reg_new','release_date','revenue_transfer','year'] ,axis=1)\n",
    "X=df3\n",
    "y=df2['revenue_transfer_x']"
   ]
  },
  {
   "cell_type": "code",
   "execution_count": 32,
   "metadata": {},
   "outputs": [],
   "source": [
    "X_train, X_test, y_train, y_test = train_test_split(X, y,random_state=48)\n",
    "# scaler = preprocessing.StandardScaler().fit(X_train)\n",
    "# X_train = scaler.transform(X_train)"
   ]
  },
  {
   "cell_type": "code",
   "execution_count": 105,
   "metadata": {},
   "outputs": [],
   "source": [
    "# 挑選相關係數高的特徵\n",
    "import pandas as pd\n",
    "from sklearn.preprocessing import StandardScaler\n",
    "from sklearn.linear_model import Lasso\n",
    "# 選擇相關的欄位\n",
    "df_selected = df3\n",
    "\n",
    "# 檢查特徵之間的相關性 皮爾森相關係數 取絕對值\n",
    "corr_matrix = df_selected.corr().abs()\n",
    "\n",
    "# # 刪除相關性大於閾值的特徵\n",
    "to_drop = []\n",
    "\n",
    "to_drop = list(set(col for col in corr_matrix.columns\n",
    "                    if col not in to_drop and any(corr_matrix[col].drop(index=[col]+to_drop) > 0.7)))\n",
    "# 先註解掉 不刪除 在下面看一下\n",
    "# X = df_selected.drop(to_drop, axis=1).values\n",
    "\n",
    "\n",
    "\n"
   ]
  },
  {
   "cell_type": "code",
   "execution_count": 106,
   "metadata": {},
   "outputs": [
    {
     "data": {
      "text/plain": [
       "[]"
      ]
     },
     "execution_count": 106,
     "metadata": {},
     "output_type": "execute_result"
    }
   ],
   "source": [
    "# 相關係數高的變數\n",
    "to_drop"
   ]
  },
  {
   "attachments": {},
   "cell_type": "markdown",
   "metadata": {},
   "source": [
    "### LASSO"
   ]
  },
  {
   "cell_type": "code",
   "execution_count": 107,
   "metadata": {},
   "outputs": [
    {
     "name": "stdout",
     "output_type": "stream",
     "text": [
      "Selected features:  Index(['sequal_x', 'reunion_holiday', 'non_reunion_holiday',\n",
      "       'budget_transfer_x', 'production_companies_freq', 'genres_freq'],\n",
      "      dtype='object')\n",
      "Feature weights:  [4.92891146e+07 1.62959295e+06 2.11152217e+06 1.64939529e+08\n",
      " 4.68691913e+06 7.03521016e+06]\n"
     ]
    }
   ],
   "source": [
    "# 數值版\n",
    "scaler = StandardScaler()\n",
    "X = scaler.fit_transform(X)\n",
    "\n",
    "# 建立 Lasso 模型\n",
    "lasso = Lasso(alpha=0.1)\n",
    "\n",
    "# 擬合模型\n",
    "lasso.fit(X, y)\n",
    "\n",
    "# 印出選擇的特徵和它們的權重\n",
    "selected_features = df3.columns[lasso.coef_ != 0]\n",
    "feature_weights = lasso.coef_[lasso.coef_ != 0]\n",
    "print(\"Selected features: \", selected_features)\n",
    "print(\"Feature weights: \", feature_weights)"
   ]
  },
  {
   "attachments": {},
   "cell_type": "markdown",
   "metadata": {},
   "source": [
    "### 隨機森林挑選特徵"
   ]
  },
  {
   "cell_type": "code",
   "execution_count": 108,
   "metadata": {},
   "outputs": [
    {
     "name": "stdout",
     "output_type": "stream",
     "text": [
      "特徵重要性排名：\n",
      "1. feature 3 (0.7486)\n",
      "2. feature 0 (0.0927)\n",
      "3. feature 5 (0.0909)\n",
      "4. feature 4 (0.0533)\n",
      "5. feature 2 (0.0110)\n",
      "6. feature 1 (0.0037)\n",
      "篩選後的特徵維度： 4\n"
     ]
    }
   ],
   "source": [
    "import numpy as np\n",
    "import pandas as pd\n",
    "from sklearn.ensemble import RandomForestClassifier, RandomForestRegressor\n",
    "from sklearn.datasets import make_classification, make_regression\n",
    "from sklearn.feature_selection import SelectFromModel\n",
    "\n",
    "\n",
    "# 選擇問題類型（類別或數值型）\n",
    "problem_type = \"regression\" # 選擇 \"classification\" 或 \"regression\"\n",
    "\n",
    "if problem_type == \"classification\":\n",
    "    rf_model = RandomForestClassifier(n_estimators=100, random_state=42)\n",
    "else:\n",
    "    rf_model = RandomForestRegressor(n_estimators=100, random_state=42)\n",
    "\n",
    "# 訓練隨機森林模型\n",
    "rf_model.fit(X, y)\n",
    "\n",
    "# 獲得特徵重要性\n",
    "importances = rf_model.feature_importances_\n",
    "\n",
    "# 特徵重要性排序\n",
    "indices = np.argsort(importances)[::-1]\n",
    "\n",
    "# 列印特徵重要性\n",
    "print(\"特徵重要性排名：\")\n",
    "for idx, f in enumerate(indices):\n",
    "    print(f\"{idx+1}. feature {f} ({importances[f]:.4f})\")\n",
    "\n",
    "# 篩選重要特徵\n",
    "sfm = SelectFromModel(rf_model, threshold=0.05)  # 可根據需求調整閾值\n",
    "sfm.fit(X, y)\n",
    "X_important = sfm.transform(X)\n",
    "\n",
    "# 列印篩選後的特徵維度\n",
    "print(f\"篩選後的特徵維度： {X_important.shape[1]}\")\n"
   ]
  },
  {
   "attachments": {},
   "cell_type": "markdown",
   "metadata": {},
   "source": [
    "### 模型建置"
   ]
  },
  {
   "cell_type": "code",
   "execution_count": 109,
   "metadata": {},
   "outputs": [
    {
     "name": "stdout",
     "output_type": "stream",
     "text": [
      "LinearRegression R2 score: 0.5907178356498386\n",
      "XGBoost R2 score: 0.6337803093268108\n",
      "SVM R2 score: -0.13021697979998836\n",
      "Decision Tree R2 score: 0.4861294033856256\n"
     ]
    }
   ],
   "source": [
    "from sklearn.linear_model import LinearRegression\n",
    "import xgboost as xgb\n",
    "from sklearn.svm import SVR\n",
    "from sklearn.tree import DecisionTreeRegressor\n",
    "from sklearn.metrics import r2_score\n",
    "\n",
    "# Define the models\n",
    "lr_model = LinearRegression()\n",
    "xgb_model = xgb.XGBRegressor(max_depth=8,n_estimators=2000,learning_rate=0.008)\n",
    "svm_model = SVR()\n",
    "tree_model = DecisionTreeRegressor()\n",
    "\n",
    "# Train the models on the training data\n",
    "lr_model.fit(X_train, y_train)\n",
    "xgb_model.fit(X_train, y_train)\n",
    "svm_model.fit(X_train, y_train)\n",
    "tree_model.fit(X_train, y_train)\n",
    "\n",
    "# Make predictions on the test data\n",
    "lr_preds = lr_model.predict(X_test)\n",
    "xgb_preds = xgb_model.predict(X_test)\n",
    "svm_preds = svm_model.predict(X_test)\n",
    "tree_preds = tree_model.predict(X_test)\n",
    "\n",
    "# Evaluate the models using R2 score\n",
    "lr_r2 = r2_score(y_test, lr_preds)\n",
    "xgb_r2 = r2_score(y_test, xgb_preds)\n",
    "svm_r2 = r2_score(y_test, svm_preds)\n",
    "tree_r2 = r2_score(y_test, tree_preds)\n",
    "\n",
    "# Print the R2 scores\n",
    "print('LinearRegression R2 score:', lr_r2)\n",
    "print('XGBoost R2 score:', xgb_r2)\n",
    "print('SVM R2 score:', svm_r2)\n",
    "print('Decision Tree R2 score:', tree_r2)\n"
   ]
  },
  {
   "attachments": {},
   "cell_type": "markdown",
   "metadata": {},
   "source": [
    "### 挑選更少特徵進行比較"
   ]
  },
  {
   "cell_type": "code",
   "execution_count": 110,
   "metadata": {},
   "outputs": [],
   "source": [
    "X=df2[['sequal_x','budget_transfer_x','production_companies_freq','genres_freq']]\n",
    "y=df2['revenue_transfer_x']\n",
    "X_train, X_test, y_train, y_test = train_test_split(X, y,random_state=48)"
   ]
  },
  {
   "cell_type": "code",
   "execution_count": 111,
   "metadata": {},
   "outputs": [
    {
     "name": "stdout",
     "output_type": "stream",
     "text": [
      "LinearRegression R2 score: 0.5907370059832607\n",
      "XGBoost R2 score: 0.6366232660854804\n",
      "SVM R2 score: -0.13021695630246133\n",
      "Decision Tree R2 score: 0.4879621626062238\n"
     ]
    }
   ],
   "source": [
    "from sklearn.linear_model import LinearRegression\n",
    "import xgboost as xgb\n",
    "from sklearn.svm import SVR\n",
    "from sklearn.tree import DecisionTreeRegressor\n",
    "from sklearn.metrics import r2_score\n",
    "\n",
    "# Define the models\n",
    "lr_model = LinearRegression()\n",
    "xgb_model = xgb.XGBRegressor(max_depth=8,n_estimators=2000,learning_rate=0.008)\n",
    "svm_model = SVR()\n",
    "tree_model = DecisionTreeRegressor()\n",
    "\n",
    "# Train the models on the training data\n",
    "lr_model.fit(X_train, y_train)\n",
    "xgb_model.fit(X_train, y_train)\n",
    "svm_model.fit(X_train, y_train)\n",
    "tree_model.fit(X_train, y_train)\n",
    "\n",
    "# Make predictions on the test data\n",
    "lr_preds = lr_model.predict(X_test)\n",
    "xgb_preds = xgb_model.predict(X_test)\n",
    "svm_preds = svm_model.predict(X_test)\n",
    "tree_preds = tree_model.predict(X_test)\n",
    "\n",
    "# Evaluate the models using R2 score\n",
    "lr_r2 = r2_score(y_test, lr_preds)\n",
    "xgb_r2 = r2_score(y_test, xgb_preds)\n",
    "svm_r2 = r2_score(y_test, svm_preds)\n",
    "tree_r2 = r2_score(y_test, tree_preds)\n",
    "\n",
    "# Print the R2 scores\n",
    "print('LinearRegression R2 score:', lr_r2)\n",
    "print('XGBoost R2 score:', xgb_r2)\n",
    "print('SVM R2 score:', svm_r2)\n",
    "print('Decision Tree R2 score:', tree_r2)\n"
   ]
  },
  {
   "attachments": {},
   "cell_type": "markdown",
   "metadata": {},
   "source": [
    "### 再次挑選特徵 LASSO、隨機森林"
   ]
  },
  {
   "cell_type": "code",
   "execution_count": 112,
   "metadata": {},
   "outputs": [
    {
     "name": "stdout",
     "output_type": "stream",
     "text": [
      "Selected features:  Index(['sequal_x', 'budget_transfer_x', 'production_companies_freq',\n",
      "       'genres_freq'],\n",
      "      dtype='object')\n",
      "Feature weights:  [4.92264033e+07 1.64835568e+08 4.68101562e+06 7.04265694e+06]\n"
     ]
    }
   ],
   "source": [
    "# 數值版\n",
    "scaler = StandardScaler()\n",
    "X = scaler.fit_transform(X)\n",
    "\n",
    "# 建立 Lasso 模型\n",
    "lasso = Lasso(alpha=0.1)\n",
    "\n",
    "# 擬合模型\n",
    "lasso.fit(X, y)\n",
    "\n",
    "# 打印選擇的特徵和它們的權重 這邊應該還要再改，不然每次都要把新挑選的特徵重新塞進來\n",
    "selected_features = df2[['sequal_x','budget_transfer_x','production_companies_freq','genres_freq']].columns[lasso.coef_ != 0]\n",
    "feature_weights = lasso.coef_[lasso.coef_ != 0]\n",
    "print(\"Selected features: \", selected_features)\n",
    "print(\"Feature weights: \", feature_weights)"
   ]
  },
  {
   "cell_type": "code",
   "execution_count": 113,
   "metadata": {},
   "outputs": [
    {
     "name": "stdout",
     "output_type": "stream",
     "text": [
      "特徵重要性排名：\n",
      "1. feature 1 (0.7568)\n",
      "2. feature 3 (0.0960)\n",
      "3. feature 0 (0.0929)\n",
      "4. feature 2 (0.0543)\n",
      "篩選後的特徵維度： 4\n"
     ]
    }
   ],
   "source": [
    "import numpy as np\n",
    "import pandas as pd\n",
    "from sklearn.ensemble import RandomForestClassifier, RandomForestRegressor\n",
    "from sklearn.datasets import make_classification, make_regression\n",
    "from sklearn.feature_selection import SelectFromModel\n",
    "\n",
    "\n",
    "# 選擇問題類型（類別或數值型）\n",
    "problem_type = \"regression\" # 選擇 \"classification\" 或 \"regression\"\n",
    "\n",
    "if problem_type == \"classification\":\n",
    "    rf_model = RandomForestClassifier(n_estimators=100, random_state=42)\n",
    "else:\n",
    "    rf_model = RandomForestRegressor(n_estimators=100, random_state=42)\n",
    "\n",
    "# 訓練隨機森林模型\n",
    "rf_model.fit(X, y)\n",
    "\n",
    "# 獲得特徵重要性\n",
    "importances = rf_model.feature_importances_\n",
    "\n",
    "# 特徵重要性排序\n",
    "indices = np.argsort(importances)[::-1]\n",
    "\n",
    "# 列印特徵重要性\n",
    "print(\"特徵重要性排名：\")\n",
    "for idx, f in enumerate(indices):\n",
    "    print(f\"{idx+1}. feature {f} ({importances[f]:.4f})\")\n",
    "\n",
    "# 篩選重要特徵\n",
    "sfm = SelectFromModel(rf_model, threshold=0.05)  # 可根據需求調整閾值\n",
    "sfm.fit(X, y)\n",
    "X_important = sfm.transform(X)\n",
    "\n",
    "# 列印篩選後的特徵維度\n",
    "print(f\"篩選後的特徵維度： {X_important.shape[1]}\")\n"
   ]
  },
  {
   "attachments": {},
   "cell_type": "markdown",
   "metadata": {},
   "source": [
    "### 最後選用XGBOOST 調整參數\n"
   ]
  },
  {
   "cell_type": "code",
   "execution_count": null,
   "metadata": {},
   "outputs": [],
   "source": [
    "from sklearn.model_selection import train_test_split\n",
    "df3=df2[['sequal_x','reunion_holiday','non_reunion_holiday','budget_transfer_x','production_companies_freq','genres_freq']]\n",
    "\n",
    "X=df3\n",
    "y=df2['revenue_transfer_x']\n",
    "# 將樣本分為三份 除訓練模型用的Train test外，Val用來驗證調整參數結果 \n",
    "X_train, X_temp, y_train, y_temp = train_test_split(X, y, test_size=0.3, random_state=42)\n",
    "X_val, X_test, y_val, y_test = train_test_split(X_temp, y_temp, test_size=0.5, random_state=42)\n"
   ]
  },
  {
   "cell_type": "code",
   "execution_count": null,
   "metadata": {},
   "outputs": [],
   "source": [
    "import numpy as np\n",
    "import matplotlib.pyplot as plt\n",
    "from sklearn.metrics import r2_score\n",
    "import xgboost as xgb\n",
    "\n",
    "# 訓練模型\n",
    "\n",
    "params = {'max_depth': 16, 'n_estimators': 2000, 'learning_rate': 0.001, 'early_stopping_rounds': 10, 'eval_metric': 'rmse','random_state' :42,'booster' :'dart'}\n",
    "xgb_model = xgb.XGBRegressor(**params)\n",
    "xgb_model.fit(X_train, y_train, eval_set=[(X_train, y_train), (X_val, y_val)], verbose=0)\n",
    "\n",
    "# 預測結果\n",
    "y_train_pred = xgb_model.predict(X_train)\n",
    "y_val_pred = xgb_model.predict(X_val)\n",
    "y_test_pred = xgb_model.predict(X_test)\n",
    "\n",
    "# 計算R²\n",
    "r2_train = r2_score(y_train, y_train_pred)\n",
    "r2_val = r2_score(y_val, y_val_pred)\n",
    "r2_test = r2_score(y_test, y_test_pred)\n",
    "\n",
    "print(f\"R² on training set: {r2_train:.2f}\")\n",
    "print(f\"R² on validation set: {r2_val:.2f}\")\n",
    "print(f\"R² on testing set: {r2_test:.2f}\")\n",
    "\n",
    "\n",
    "# 繪製訓練和驗證損失\n",
    "evals_result = xgb_model.evals_result()\n",
    "plt.plot(evals_result[\"validation_0\"][\"rmse\"], label=\"Train Loss\")\n",
    "plt.plot(evals_result[\"validation_1\"][\"rmse\"], label=\"Validation Loss\") \n",
    "plt.xlabel(\"Iteration\")\n",
    "plt.ylabel(\"Loss\")\n",
    "plt.title(\"Train and Validation Loss vs Iteration\")\n",
    "plt.legend()\n",
    "plt.show()\n"
   ]
  },
  {
   "attachments": {},
   "cell_type": "markdown",
   "metadata": {},
   "source": [
    "### 最終模型定案的話要存檔供FLASK使用(待模型最終超參數調整)"
   ]
  },
  {
   "cell_type": "code",
   "execution_count": 74,
   "metadata": {},
   "outputs": [],
   "source": [
    "import pickle\n",
    "\n",
    "# 模型存檔\n",
    "with open('lr_model.pkl', 'wb') as file:\n",
    "    pickle.dump(lr_model, file)"
   ]
  },
  {
   "cell_type": "code",
   "execution_count": 77,
   "metadata": {},
   "outputs": [
    {
     "name": "stdout",
     "output_type": "stream",
     "text": [
      "[32390664.62236005]\n"
     ]
    },
    {
     "name": "stderr",
     "output_type": "stream",
     "text": [
      "d:\\Users\\hanklee\\anaconda3\\lib\\site-packages\\sklearn\\base.py:420: UserWarning: X does not have valid feature names, but LinearRegression was fitted with feature names\n",
      "  warnings.warn(\n"
     ]
    }
   ],
   "source": [
    "import joblib\n",
    "\n",
    "# 載入模型\n",
    "lr_model = joblib.load('lr_model.pkl')\n",
    "\n",
    "# 輸入特徵 (預算、評分)\n",
    "feature = [[8000000,8]]  \n",
    "# 進行預測\n",
    "prediction = lr_model.predict(feature)\n",
    "\n",
    "print(prediction)"
   ]
  }
 ],
 "metadata": {
  "kernelspec": {
   "display_name": "base",
   "language": "python",
   "name": "python3"
  },
  "language_info": {
   "codemirror_mode": {
    "name": "ipython",
    "version": 3
   },
   "file_extension": ".py",
   "mimetype": "text/x-python",
   "name": "python",
   "nbconvert_exporter": "python",
   "pygments_lexer": "ipython3",
   "version": "3.10.9"
  },
  "orig_nbformat": 4
 },
 "nbformat": 4,
 "nbformat_minor": 2
}
