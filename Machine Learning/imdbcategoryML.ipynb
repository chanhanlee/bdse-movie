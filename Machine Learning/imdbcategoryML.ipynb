{
 "cells": [
  {
   "cell_type": "code",
   "execution_count": null,
   "id": "9448e8a2",
   "metadata": {},
   "outputs": [],
   "source": [
    "import pandas as pd\n",
    "import numpy as np\n",
    "from sklearn import preprocessing\n",
    "from sklearn.model_selection import train_test_split\n",
    "from sklearn.linear_model  import LogisticRegression\n",
    "from sklearn.metrics import accuracy_score, confusion_matrix\n",
    "import xgboost as xgb\n",
    "from sklearn.metrics import mean_squared_error, r2_score\n",
    "from sklearn.preprocessing import LabelEncoder\n",
    "from sklearn.preprocessing import StandardScaler\n"
   ]
  },
  {
   "attachments": {},
   "cell_type": "markdown",
   "id": "2851cf6f",
   "metadata": {},
   "source": [
    "### DATA做一些清整、編碼 挑選要的特徵欄位"
   ]
  },
  {
   "cell_type": "code",
   "execution_count": null,
   "id": "ea5587e1",
   "metadata": {},
   "outputs": [],
   "source": [
    "pima = pd.read_csv('imdb.csv')\n",
    "pima.info()\n",
    "pima['sequal'].isna()\n",
    "# 將空值(非續集)轉為0，有值得為1(是續集)\n",
    "pima['sequal'] =pima['sequal'].isna().apply(lambda x: 0 if x==True else 1)\n",
    "# 檢查轉換有無正確\n",
    "#pima['sequal'][500:]\n",
    "# 判斷有賺錢為1 沒有為0\n",
    "pima['make_money'] = np.where(pima['revenue_transfer'] - pima['budget_transfer'] > 0, 1, 0)\n",
    "pima[['revenue_transfer','budget_transfer','make_money']]\n",
    "actor_cols = ['actor1', 'actor2', 'actor3', 'actor4', 'actor5', 'actor6']\n",
    "actor_dummies = pd.get_dummies(pima[actor_cols].fillna(''), prefix=actor_cols)\n",
    "# 將所有缺值補為0\n",
    "pima=pima.fillna(value=0)\n",
    "# 再度確認\n",
    "#pima.info()\n",
    "# 挑出要用的欄位放進X,y為有賺錢沒賺錢\n",
    "test=pima[['avg_rating','sequal','Armistice Day (Observed)','Christmas Day (Observed)','Independence Day (Observed)','Juneteenth National Independence Day (Observed)',\"New Year's Day (Observed)\",'Veterans Day (Observed)',\"Washington's Birthday\",'actor1_count','actor2_count','actor3_count','actor4_count','actor5_count','actor6_count']]\n",
    "y=pima['make_money']\n",
    "X = pd.concat([test,actor_dummies],axis=1)"
   ]
  },
  {
   "cell_type": "code",
   "execution_count": null,
   "id": "731d52c7",
   "metadata": {},
   "outputs": [],
   "source": [
    "df=pd.read_csv('df_final.csv',index_col=False)"
   ]
  },
  {
   "cell_type": "code",
   "execution_count": null,
   "id": "453f57e0",
   "metadata": {},
   "outputs": [],
   "source": [
    "#df.columns.get_loc('Christmas Day_new') 確認假日在哪 因上面有警告訊息\n",
    "X=df[df.columns[58:]]"
   ]
  },
  {
   "cell_type": "code",
   "execution_count": null,
   "id": "2408b229",
   "metadata": {},
   "outputs": [],
   "source": [
    "# 有缺值模型跑不動\n",
    "df[df.columns[49:]].dropna()"
   ]
  },
  {
   "cell_type": "code",
   "execution_count": null,
   "id": "0d6b8286",
   "metadata": {},
   "outputs": [],
   "source": [
    "df1=df.copy()\n",
    "df1['make_money'] = np.where(df1['revenue_transfer'] - df1['budget_transfer'] > 0, 1, 0)\n",
    "#df=df.fillna(value=0)"
   ]
  },
  {
   "cell_type": "code",
   "execution_count": null,
   "id": "b43ff8ac",
   "metadata": {},
   "outputs": [],
   "source": [
    "# drop na之後y對不上\n",
    "df2 = pd.concat([X, y], axis=1, join='inner')"
   ]
  },
  {
   "cell_type": "code",
   "execution_count": null,
   "id": "12d3d167",
   "metadata": {},
   "outputs": [],
   "source": [
    "y=df2['make_money']"
   ]
  },
  {
   "attachments": {},
   "cell_type": "markdown",
   "id": "b12ba201",
   "metadata": {},
   "source": [
    "### 模型測試"
   ]
  },
  {
   "cell_type": "code",
   "execution_count": null,
   "id": "cf0aa653",
   "metadata": {},
   "outputs": [],
   "source": [
    "# Only XG\n",
    "import pandas as pd\n",
    "import xgboost as xgb\n",
    "from sklearn.datasets import load_boston\n",
    "from sklearn.model_selection import train_test_split\n",
    "from sklearn.metrics import mean_squared_error, r2_score\n",
    "from sklearn.preprocessing import LabelEncoder\n",
    "from sklearn import preprocessing\n",
    "from sklearn.metrics import accuracy_score, confusion_matrix\n",
    "# le = LabelEncoder()\n",
    "# y = le.fit_transform(y)\n",
    "X_train, X_test, y_train, y_test = train_test_split(X, y)\n",
    "scaler = preprocessing.StandardScaler().fit(X_train)\n",
    "X_train = scaler.transform(X_train)\n",
    "regressor = xgb.XGBClassifier(\n",
    "    n_estimators=100,\n",
    "    max_depth=3)\n",
    "regressor.fit(X_train, y_train)\n",
    "y_pred = regressor.predict(X_test)\n",
    "mse = mean_squared_error(y_test, y_pred)\n",
    "r2 = r2_score(y_test, y_pred)\n",
    "accuracy = accuracy_score(y_test, y_pred)\n",
    "print('r2: {}'.format(r2))\n",
    "print('mse: {}'.format(mse))\n",
    "print(\"Accuracy: %.2f%%\" % (accuracy * 100.0))"
   ]
  },
  {
   "attachments": {},
   "cell_type": "markdown",
   "id": "aaf19295",
   "metadata": {},
   "source": [
    "### 多模型比較"
   ]
  },
  {
   "cell_type": "code",
   "execution_count": null,
   "id": "20bce792",
   "metadata": {},
   "outputs": [],
   "source": [
    "from sklearn.model_selection import train_test_split\n",
    "from sklearn.preprocessing import StandardScaler\n",
    "from sklearn.tree import DecisionTreeClassifier\n",
    "from sklearn.ensemble import RandomForestClassifier, GradientBoostingClassifier\n",
    "from sklearn.neighbors import KNeighborsClassifier\n",
    "from sklearn.neural_network import MLPClassifier\n",
    "from sklearn.svm import SVC\n",
    "from sklearn.linear_model import LogisticRegression\n",
    "from sklearn.metrics import accuracy_score, precision_score, recall_score, f1_score, confusion_matrix\n",
    "import xgboost as xgb\n",
    "import numpy as np\n",
    "import matplotlib.pyplot as plt\n",
    "\n",
    "# Split data into training and testing sets\n",
    "X_train, X_test, y_train, y_test = train_test_split(X, y, test_size=0.2, random_state=42)\n",
    "\n",
    "# Standardize features\n",
    "scaler = StandardScaler()\n",
    "X_train = scaler.fit_transform(X_train)\n",
    "X_test = scaler.transform(X_test)\n",
    "\n",
    "# Define models\n",
    "dtc = DecisionTreeClassifier(max_depth=5, min_samples_split=20)\n",
    "rfc = RandomForestClassifier(max_depth=5)\n",
    "# svc = SVC(kernel='rbf', gamma=0.7, C=1)\n",
    "mlp = MLPClassifier(hidden_layer_sizes=(100,), max_iter=1000)\n",
    "knn = KNeighborsClassifier(n_neighbors=5)\n",
    "gbc = GradientBoostingClassifier(n_estimators=100, max_depth=5, min_samples_split=20, min_samples_leaf=10)\n",
    "lgr = LogisticRegression(max_iter=10000)\n",
    "xgbst = xgb.XGBClassifier(n_estimators=100, max_depth=5)\n",
    "\n",
    "models = [\n",
    "    (dtc, 'Decision Tree'),\n",
    "    (rfc, 'Random Forest'),\n",
    "    # (svc, 'SVM'),\n",
    "    (mlp, 'Neural Network'),\n",
    "    (knn, 'KNN'),\n",
    "    (gbc, 'Gradient Boosting'),\n",
    "    (lgr, 'Logistic Regression'),\n",
    "    (xgbst, 'XGBoost')\n",
    "]\n",
    "\n",
    "# Train and evaluate models\n",
    "for model, model_name in models:\n",
    "    model.fit(X_train, y_train)\n",
    "    y_pred = model.predict(X_test)\n",
    "    accuracy = accuracy_score(y_test, y_pred)\n",
    "    precision = precision_score(y_test, y_pred)\n",
    "    recall = recall_score(y_test, y_pred)\n",
    "    f1 = f1_score(y_test, y_pred)\n",
    "    cm = confusion_matrix(y_test, y_pred)\n",
    "    print(f\"{model_name}:\")\n",
    "    print(f\"Accuracy: {accuracy:.2f}\")\n",
    "    print(f\"Precision: {precision:.2f}\")\n",
    "    print(f\"Recall: {recall:.2f}\")\n",
    "    print(f\"F1 Score: {f1:.2f}\")\n",
    "    print(\"Confusion Matrix:\\n\", cm)\n",
    "\n",
    "# Define model names\n",
    "model_names = [model_name for model, model_name in models]\n",
    "\n",
    "# Plot bar chart of model performance\n",
    "accuracy_list = [accuracy_score(y_test, model.predict(X_test)) for model, model_name in models]\n",
    "precision_list = [precision_score(y_test, model.predict(X_test)) for model, model_name in models]\n",
    "recall_list = [recall_score(y_test, model.predict(X_test)) for model, model_name in models]\n",
    "f1_list = [f1_score(y_test, model.predict(X_test)) for model, model_name in models]\n",
    "\n",
    "x = np.arange(len(model_names))\n",
    "width = 0.2\n",
    "fig, ax = plt.subplots(figsize=(10, 5))\n",
    "rects1 = ax.bar(x - width*1.5, accuracy_list, width, label='Accuracy')\n",
    "rects2 = ax.bar(x - width/2, precision_list, width, label='Precision')\n",
    "rects3 = ax.bar(x + width/2, recall_list, width, label='Recall')\n",
    "rects4 = ax.bar(x + width*1.5, f1_list, width, label='F1 Score')\n",
    "\n",
    "ax.set_ylabel('Score')\n",
    "ax.set_xticks(x)\n",
    "ax.set_xticklabels(model_names)\n",
    "ax.legend()\n",
    "\n",
    "plt.show()\n",
    "\n"
   ]
  },
  {
   "cell_type": "code",
   "execution_count": null,
   "id": "6a03781e",
   "metadata": {},
   "outputs": [],
   "source": [
    "# 各模型箱型圖比較\n",
    "predicted_scores = []\n",
    "for model, model_name in models:\n",
    "    predicted_scores.append(model.predict_proba(X_test)[:, 1])\n",
    "\n",
    "# Plot box plots of model performance\n",
    "fig, ax = plt.subplots(figsize=(10, 5))\n",
    "ax.boxplot(predicted_scores)\n",
    "ax.set_xticklabels(model_names)\n",
    "ax.set_ylabel('Predicted Probability')\n",
    "ax.set_title('Comparison of Model Predicted Probabilities')\n",
    "plt.show()"
   ]
  },
  {
   "cell_type": "code",
   "execution_count": null,
   "id": "232a23d7",
   "metadata": {},
   "outputs": [],
   "source": [
    "# Train and evaluate models\n",
    "results = []\n",
    "names = []\n",
    "for model, model_name in models:\n",
    "    model.fit(X_train, y_train)\n",
    "    y_pred = model.predict(X_test)\n",
    "    accuracy = accuracy_score(y_test, y_pred)\n",
    "    precision = precision_score(y_test, y_pred)\n",
    "    recall = recall_score(y_test, y_pred)\n",
    "    f1 = f1_score(y_test, y_pred)\n",
    "    cm = confusion_matrix(y_test, y_pred)\n",
    "    print(f\"{model_name}:\")\n",
    "    print(f\"Accuracy: {accuracy:.2f}\")\n",
    "    print(f\"Precision: {precision:.2f}\")\n",
    "    print(f\"Recall: {recall:.2f}\")\n",
    "    print(f\"F1 Score: {f1:.2f}\")\n",
    "    print(\"Confusion Matrix:\\n\", cm)\n",
    "    \n",
    "    results.append([accuracy, precision, recall, f1])\n",
    "    names.append(model_name)\n"
   ]
  },
  {
   "cell_type": "code",
   "execution_count": null,
   "id": "e14d1222",
   "metadata": {},
   "outputs": [],
   "source": []
  }
 ],
 "metadata": {
  "kernelspec": {
   "display_name": "Python 3 (ipykernel)",
   "language": "python",
   "name": "python3"
  },
  "language_info": {
   "codemirror_mode": {
    "name": "ipython",
    "version": 3
   },
   "file_extension": ".py",
   "mimetype": "text/x-python",
   "name": "python",
   "nbconvert_exporter": "python",
   "pygments_lexer": "ipython3",
   "version": "3.10.9"
  }
 },
 "nbformat": 4,
 "nbformat_minor": 5
}
